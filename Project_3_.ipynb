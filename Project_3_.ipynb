{
  "nbformat": 4,
  "nbformat_minor": 0,
  "metadata": {
    "colab": {
      "provenance": []
    },
    "kernelspec": {
      "name": "python3",
      "display_name": "Python 3"
    },
    "language_info": {
      "name": "python"
    }
  },
  "cells": [
    {
      "cell_type": "markdown",
      "source": [
        "# Project 3\n",
        "\n",
        "\n",
        "Your project should be submitted (as a Jupyter Notebook via GitHub) by end of the due date. The group should present their code and findings in our meetup. The ability to be an effective member of a virtual team is highly valued in the data science job market.\n",
        "\n",
        "Using any of the three classifiers described in chapter 6 of Natural Language Processing with Python, and any features you can think of, build the best name gender classifier you can.\n",
        "\n",
        "Begin by splitting the Names Corpus into three subsets: 500 words for the test set, 500 words for the dev-test set, and the remaining 6900 words for the training set. Then, starting with the example name gender classifier, make incremental improvements. Use the dev-test set to check your progress. Once you are satisfied with your classifier, check its final performance on the test set.\n",
        "\n",
        "How does the performance on the test set compare to the performance on the dev-test set? Is this what you'd expect? Source: Natural Language Processing with Python, exercise 6.10.2.\n"
      ],
      "metadata": {
        "id": "3WQtT3yKRbdz"
      }
    },
    {
      "cell_type": "markdown",
      "source": [
        "Group (The DataDriven Team): Susanna Wong, Puja Roy, Mikhail Broomes & Marjete Vucinaj"
      ],
      "metadata": {
        "id": "cKKsHIiL24ww"
      }
    },
    {
      "cell_type": "code",
      "source": [
        "!pip install syllapy\n"
      ],
      "metadata": {
        "colab": {
          "base_uri": "https://localhost:8080/"
        },
        "id": "q5TOGudFokCB",
        "outputId": "2a5162a9-2cd2-4a98-90d6-9ea5ba18b87d"
      },
      "execution_count": null,
      "outputs": [
        {
          "output_type": "stream",
          "name": "stdout",
          "text": [
            "Requirement already satisfied: syllapy in /usr/local/lib/python3.10/dist-packages (0.7.2)\n"
          ]
        }
      ]
    },
    {
      "cell_type": "code",
      "execution_count": null,
      "metadata": {
        "id": "kdK54WJKRYkn"
      },
      "outputs": [],
      "source": [
        "import nltk\n",
        "from nltk.corpus import names\n",
        "\n",
        "import random\n",
        "import pandas as pd\n",
        "import seaborn as sns\n",
        "import matplotlib.pyplot as plt\n",
        "from sklearn.model_selection import KFold\n",
        "import numpy as np\n",
        "import syllapy\n",
        "from sklearn.tree import DecisionTreeClassifier\n",
        "from sklearn.metrics import accuracy_score\n",
        "from sklearn.metrics import classification_report\n",
        "from sklearn.feature_extraction import DictVectorizer\n",
        "from sklearn.tree import plot_tree\n",
        "\n"
      ]
    },
    {
      "cell_type": "markdown",
      "source": [
        "# Load Corpus\n",
        "\n",
        "There are two files in the corpus:\n",
        "\n",
        "\n",
        "1.   'female.txt': It contains 5001 females names.\n",
        "2.   'male.txt': It contains 2943 male names.\n",
        "\n"
      ],
      "metadata": {
        "id": "7f0ktEXJl9Sj"
      }
    },
    {
      "cell_type": "code",
      "source": [
        "nltk.download('names')\n",
        "names.fileids()"
      ],
      "metadata": {
        "colab": {
          "base_uri": "https://localhost:8080/"
        },
        "id": "B4zajYCAmJxN",
        "outputId": "7d23dc06-a759-4a91-a4bd-43a6d3f063a9"
      },
      "execution_count": null,
      "outputs": [
        {
          "output_type": "stream",
          "name": "stderr",
          "text": [
            "[nltk_data] Downloading package names to /root/nltk_data...\n",
            "[nltk_data]   Package names is already up-to-date!\n"
          ]
        },
        {
          "output_type": "execute_result",
          "data": {
            "text/plain": [
              "['female.txt', 'male.txt']"
            ]
          },
          "metadata": {},
          "execution_count": 65
        }
      ]
    },
    {
      "cell_type": "markdown",
      "source": [
        "## Male Names"
      ],
      "metadata": {
        "id": "xL8M9mNwtTzV"
      }
    },
    {
      "cell_type": "code",
      "source": [
        "# From text p 62\n",
        "names = nltk.corpus.names\n",
        "\n",
        "male_names = names.words('male.txt')\n",
        "print(male_names[:10])\n",
        "len(male_names)"
      ],
      "metadata": {
        "colab": {
          "base_uri": "https://localhost:8080/"
        },
        "id": "ctlmCeHEjzzc",
        "outputId": "53a4a75d-4ae7-408c-ca4b-edd1007989c0"
      },
      "execution_count": null,
      "outputs": [
        {
          "output_type": "stream",
          "name": "stdout",
          "text": [
            "['Aamir', 'Aaron', 'Abbey', 'Abbie', 'Abbot', 'Abbott', 'Abby', 'Abdel', 'Abdul', 'Abdulkarim']\n"
          ]
        },
        {
          "output_type": "execute_result",
          "data": {
            "text/plain": [
              "2943"
            ]
          },
          "metadata": {},
          "execution_count": 66
        }
      ]
    },
    {
      "cell_type": "markdown",
      "source": [
        "## Female Names"
      ],
      "metadata": {
        "id": "vPv2k1latYjW"
      }
    },
    {
      "cell_type": "code",
      "source": [
        "female_names = names.words('female.txt')\n",
        "print(female_names[:10])\n",
        "len(female_names)"
      ],
      "metadata": {
        "colab": {
          "base_uri": "https://localhost:8080/"
        },
        "id": "cKr0-NtRlyUl",
        "outputId": "ed0ec37e-3642-4f0e-dc69-09fa1f9fe30c"
      },
      "execution_count": null,
      "outputs": [
        {
          "output_type": "stream",
          "name": "stdout",
          "text": [
            "['Abagael', 'Abagail', 'Abbe', 'Abbey', 'Abbi', 'Abbie', 'Abby', 'Abigael', 'Abigail', 'Abigale']\n"
          ]
        },
        {
          "output_type": "execute_result",
          "data": {
            "text/plain": [
              "5001"
            ]
          },
          "metadata": {},
          "execution_count": 67
        }
      ]
    },
    {
      "cell_type": "markdown",
      "source": [
        "## Gender Neutral Names"
      ],
      "metadata": {
        "id": "Gm7rFwpWthqq"
      }
    },
    {
      "cell_type": "markdown",
      "source": [
        "Just observing the first couple names of each list, we can see some names appear in both genders. There are 365 gender neutral names."
      ],
      "metadata": {
        "id": "1nZWjDiNsl7n"
      }
    },
    {
      "cell_type": "code",
      "source": [
        "neutral_names = [w for w in male_names if w in female_names]\n",
        "print(neutral_names[:10])\n",
        "len(neutral_names)"
      ],
      "metadata": {
        "colab": {
          "base_uri": "https://localhost:8080/"
        },
        "id": "xbcDL7e6s8Io",
        "outputId": "d74159d6-f68b-420d-bd76-a783bd759b23"
      },
      "execution_count": null,
      "outputs": [
        {
          "output_type": "stream",
          "name": "stdout",
          "text": [
            "['Abbey', 'Abbie', 'Abby', 'Addie', 'Adrian', 'Adrien', 'Ajay', 'Alex', 'Alexis', 'Alfie']\n"
          ]
        },
        {
          "output_type": "execute_result",
          "data": {
            "text/plain": [
              "365"
            ]
          },
          "metadata": {},
          "execution_count": 68
        }
      ]
    },
    {
      "cell_type": "markdown",
      "source": [
        "## Characteristics of Gender Names"
      ],
      "metadata": {
        "id": "tbFlYvB4yW_i"
      }
    },
    {
      "cell_type": "markdown",
      "source": [
        "## Last Letter of Name"
      ],
      "metadata": {
        "id": "drFa3ftIQRyD"
      }
    },
    {
      "cell_type": "markdown",
      "source": [
        "Names ending with 'a','e', or 'i' are mostly female names.\n",
        "\n",
        "Names ending with 'h', or 'l' are gender neutral (equally likely).\n",
        "\n",
        "Names ending with 'k', 'o', 'r', 's', or 't' are mostly male names."
      ],
      "metadata": {
        "id": "9lsRTiFUv8lQ"
      }
    },
    {
      "cell_type": "code",
      "source": [
        "cfd = nltk.ConditionalFreqDist(\n",
        "    (category, name[-1])\n",
        "    for category in ['male','female','neutral']\n",
        "    for name in (male_names if category == 'male' else (female_names if category == 'female' else neutral_names))\n",
        ")\n",
        "\n",
        "cfd.plot()"
      ],
      "metadata": {
        "colab": {
          "base_uri": "https://localhost:8080/",
          "height": 466
        },
        "id": "MAuj19g4uZRI",
        "outputId": "5697dc05-d464-475e-82b0-9050b36ebad9"
      },
      "execution_count": null,
      "outputs": [
        {
          "output_type": "display_data",
          "data": {
            "text/plain": [
              "<Figure size 640x480 with 1 Axes>"
            ],
            "image/png": "[encoded data removed]"
          },
          "metadata": {}
        },
        {
          "output_type": "execute_result",
          "data": {
            "text/plain": [
              "<Axes: xlabel='Samples', ylabel='Counts'>"
            ]
          },
          "metadata": {},
          "execution_count": 69
        }
      ]
    },
    {
      "cell_type": "markdown",
      "source": [
        "## First Letter of Name"
      ],
      "metadata": {
        "id": "Af_HSHGRUmnp"
      }
    },
    {
      "cell_type": "markdown",
      "source": [
        "Names starting with 'a','e', or 'i' are mostly female names.\n",
        "\n",
        "Names starting with 'h', or 'l' are gender neutral (equally likely).\n",
        "\n",
        "Names starting with 'k', 'o', 'r', 's', or 't' are mostly male names."
      ],
      "metadata": {
        "id": "IxuwnJa6C5la"
      }
    },
    {
      "cell_type": "code",
      "source": [
        "cfd = nltk.ConditionalFreqDist(\n",
        "    (category, name[0])\n",
        "    for category in ['male','female','neutral']\n",
        "    for name in (male_names if category == 'male' else (female_names if category == 'female' else neutral_names))\n",
        ")\n",
        "\n",
        "cfd.plot()"
      ],
      "metadata": {
        "colab": {
          "base_uri": "https://localhost:8080/",
          "height": 466
        },
        "id": "lHEA8kpGUUtL",
        "outputId": "6e24e64a-4852-4e4e-93e0-8926b53a89fe"
      },
      "execution_count": null,
      "outputs": [
        {
          "output_type": "display_data",
          "data": {
            "text/plain": [
              "<Figure size 640x480 with 1 Axes>"
            ],
            "image/png": "[encoded data removed]"
          },
          "metadata": {}
        },
        {
          "output_type": "execute_result",
          "data": {
            "text/plain": [
              "<Axes: xlabel='Samples', ylabel='Counts'>"
            ]
          },
          "metadata": {},
          "execution_count": 70
        }
      ]
    },
    {
      "cell_type": "markdown",
      "source": [
        "## Length"
      ],
      "metadata": {
        "id": "QFEfH2cAXST2"
      }
    },
    {
      "cell_type": "markdown",
      "source": [
        "Label names with gender, create a dataframe and add name length"
      ],
      "metadata": {
        "id": "vcMfiqsJH8zi"
      }
    },
    {
      "cell_type": "code",
      "source": [
        "# Adding gender labels to each name\n",
        "labeled_names = ([(name, 'male') for name in male_names] +\n",
        "                 [(name, 'female') for name in female_names])\n",
        "\n",
        "all_names = pd.DataFrame(labeled_names, columns =['name','gender'])\n",
        "all_names['length']=all_names['name'].str.len()\n",
        "#all_names"
      ],
      "metadata": {
        "id": "5Q2VSIvmXUA9"
      },
      "execution_count": null,
      "outputs": []
    },
    {
      "cell_type": "markdown",
      "source": [
        "Group the names by gender and length. and count how many names fall into each group. Create a bar plot using Seaborn  where the x-axis shows the length of the names. The y-axis shows the count of names.\n",
        "\n",
        "Using different colors represent gendered names, the visual shows that females tend to have names with longer length and male names with highest count has 6 letters.\n",
        "\n"
      ],
      "metadata": {
        "id": "8qYXHrGSIEeC"
      }
    },
    {
      "cell_type": "code",
      "source": [
        "length_counts = all_names.groupby(['gender','length']).size().reset_index(name = 'count')\n",
        "\n",
        "sns.barplot(x='length', y='count', hue = 'gender', data = length_counts)"
      ],
      "metadata": {
        "colab": {
          "base_uri": "https://localhost:8080/",
          "height": 466
        },
        "id": "WOEVpOybXVV9",
        "outputId": "2dfdb1bf-b083-4c44-f0a4-38ba532a8daa"
      },
      "execution_count": null,
      "outputs": [
        {
          "output_type": "execute_result",
          "data": {
            "text/plain": [
              "<Axes: xlabel='length', ylabel='count'>"
            ]
          },
          "metadata": {},
          "execution_count": 72
        },
        {
          "output_type": "display_data",
          "data": {
            "text/plain": [
              "<Figure size 640x480 with 1 Axes>"
            ],
            "image/png": "[encoded data removed]"
          },
          "metadata": {}
        }
      ]
    },
    {
      "cell_type": "markdown",
      "source": [
        "# Data Preprocessing\n"
      ],
      "metadata": {
        "id": "k7zrK8nTzbUC"
      }
    },
    {
      "cell_type": "markdown",
      "source": [
        "Mix the names randomly (using random.shuffle) to ensure male and female names are not in any specific order. Print the first 10 names from the shuffled list to give an example of the shuffled order."
      ],
      "metadata": {
        "id": "tCtD3Pe-KFRp"
      }
    },
    {
      "cell_type": "code",
      "source": [
        "# Shuffle the labeled names to mix male and female names\n",
        "random.seed(115)\n",
        "random.shuffle(labeled_names)\n",
        "\n",
        "# Print the first 10 labeled names as a sample\n",
        "print(\"Labeled Names:\", labeled_names[:10])"
      ],
      "metadata": {
        "colab": {
          "base_uri": "https://localhost:8080/"
        },
        "id": "RfjspgyQhusA",
        "outputId": "488573cd-d231-4895-c179-efef2cfe064a"
      },
      "execution_count": null,
      "outputs": [
        {
          "output_type": "stream",
          "name": "stdout",
          "text": [
            "Labeled Names: [('Janene', 'female'), ('Hedda', 'female'), ('Mignon', 'female'), ('Kalil', 'male'), ('Becky', 'female'), ('Dinah', 'female'), ('Belinda', 'female'), ('Toma', 'female'), ('Storey', 'female'), ('Osborne', 'male')]\n"
          ]
        }
      ]
    },
    {
      "cell_type": "markdown",
      "source": [
        "# Gender Feature\n",
        "The accuracy rate of all the models below changes every time the code is run even though step for setting seed was completed."
      ],
      "metadata": {
        "id": "zdO8Fl7enU4M"
      }
    },
    {
      "cell_type": "markdown",
      "source": [
        "## Model 1"
      ],
      "metadata": {
        "id": "CJr1k2TFj3Ud"
      }
    },
    {
      "cell_type": "markdown",
      "source": [
        "Our first model looks at the last letter of each name. It has an accuracy rate of 76.8%. Resetting the seed before each shuffle was skipped for this model since that code was completed in preprocessing step."
      ],
      "metadata": {
        "id": "pY_vd-ral_jc"
      }
    },
    {
      "cell_type": "code",
      "source": [
        "def gender_features1(word):\n",
        "  return {'last_letter':word[-1]}"
      ],
      "metadata": {
        "id": "2DZacQ7QnYLa"
      },
      "execution_count": null,
      "outputs": []
    },
    {
      "cell_type": "markdown",
      "source": [
        "Prepare the data by splitting into into training(remaining 6900), development/test(500), and test sets (500). Extract features (using the function above)  from each name (n) and pair with the corresponding gender ('g') to create feature sets. Train Naive Bayes classifier using the training set. Evaluate the accuracy of the classifier using the development/test set and print."
      ],
      "metadata": {
        "id": "B8fVGdqvPGJ7"
      }
    },
    {
      "cell_type": "code",
      "source": [
        "train_names = labeled_names[1500:]\n",
        "devtest_names = labeled_names[500:1500]\n",
        "test_names = labeled_names[:500]\n",
        "\n",
        "train_set = [(gender_features1(n), g) for (n,g) in train_names]\n",
        "devtest_set = [(gender_features1(n), g) for (n,g) in devtest_names]\n",
        "test_set = [(gender_features1(n), g) for (n,g) in test_names]\n",
        "classifier = nltk.NaiveBayesClassifier.train(train_set)\n",
        "print(nltk.classify.accuracy(classifier, devtest_set))"
      ],
      "metadata": {
        "colab": {
          "base_uri": "https://localhost:8080/"
        },
        "id": "pdfK5eRZnqvT",
        "outputId": "f3454be6-bc10-4483-bccc-4fa04e757d0d"
      },
      "execution_count": null,
      "outputs": [
        {
          "output_type": "stream",
          "name": "stdout",
          "text": [
            "0.751\n"
          ]
        }
      ]
    },
    {
      "cell_type": "markdown",
      "source": [
        "Below shows the top 10 most important features in our classifier."
      ],
      "metadata": {
        "id": "XJpi1qelm7cw"
      }
    },
    {
      "cell_type": "code",
      "source": [
        "classifier.show_most_informative_features(10)"
      ],
      "metadata": {
        "colab": {
          "base_uri": "https://localhost:8080/"
        },
        "id": "KJQcQsxcZQEt",
        "outputId": "4e33e074-9c1e-4b7a-a2de-e090c3ef41f3"
      },
      "execution_count": null,
      "outputs": [
        {
          "output_type": "stream",
          "name": "stdout",
          "text": [
            "Most Informative Features\n",
            "             last_letter = 'k'              male : female =     38.3 : 1.0\n",
            "             last_letter = 'a'            female : male   =     32.5 : 1.0\n",
            "             last_letter = 'f'              male : female =     14.3 : 1.0\n",
            "             last_letter = 'p'              male : female =     11.0 : 1.0\n",
            "             last_letter = 'm'              male : female =     10.3 : 1.0\n",
            "             last_letter = 'd'              male : female =      9.8 : 1.0\n",
            "             last_letter = 'v'              male : female =      9.7 : 1.0\n",
            "             last_letter = 'o'              male : female =      9.3 : 1.0\n",
            "             last_letter = 'r'              male : female =      6.8 : 1.0\n",
            "             last_letter = 'g'              male : female =      5.9 : 1.0\n"
          ]
        }
      ]
    },
    {
      "cell_type": "markdown",
      "source": [
        "Identify errors made by a classifier on the development/testing dataset to identify patterns and make improvements in feature extraction.\n",
        "\n",
        "\n"
      ],
      "metadata": {
        "id": "GU2_pJxtUyO9"
      }
    },
    {
      "cell_type": "code",
      "source": [
        "errors = []\n",
        "for (name, tag) in devtest_names:\n",
        "  guess = classifier.classify(gender_features1(name))\n",
        "  if guess != tag:\n",
        "    errors.append( (tag, guess, name) )"
      ],
      "metadata": {
        "id": "2mo3kX9DfQvu"
      },
      "execution_count": null,
      "outputs": []
    },
    {
      "cell_type": "code",
      "source": [
        "for (tag, guess, name) in sorted(errors[:5]):\n",
        "  print('correct=%-8s guess=%-8s name=%-30s' % (tag, guess, name))"
      ],
      "metadata": {
        "colab": {
          "base_uri": "https://localhost:8080/"
        },
        "id": "7BJdJid2fdsg",
        "outputId": "9708f248-ae13-4b1c-fa01-7f6137f6d766"
      },
      "execution_count": null,
      "outputs": [
        {
          "output_type": "stream",
          "name": "stdout",
          "text": [
            "correct=female   guess=male     name=Katlin                        \n",
            "correct=male     guess=female   name=Lonnie                        \n",
            "correct=male     guess=female   name=Rodolphe                      \n",
            "correct=male     guess=female   name=Tate                          \n",
            "correct=male     guess=female   name=Wolfie                        \n"
          ]
        }
      ]
    },
    {
      "cell_type": "markdown",
      "source": [
        "## Model 2"
      ],
      "metadata": {
        "id": "ngnzamP8j8bA"
      }
    },
    {
      "cell_type": "markdown",
      "source": [
        "\n",
        "Our second model looks at the last two letters of each name."
      ],
      "metadata": {
        "id": "Pe_j040GV_yD"
      }
    },
    {
      "cell_type": "code",
      "source": [
        "def gender_features2(word):\n",
        "  return {'suffix1':word[-1:],\n",
        "          'suffix2':word[-2:]}"
      ],
      "metadata": {
        "id": "w8wxQzEShKeA"
      },
      "execution_count": null,
      "outputs": []
    },
    {
      "cell_type": "markdown",
      "source": [
        "Prepare the data by splitting into into training, development/test, and test sets. Extract features (using the function above)  from each name (n) and pair with the corresponding gender ('g') to create feature sets. Train Naive Bayes classifier using the training set. Evaluate the accuracy of the classifier using the development/test set and print."
      ],
      "metadata": {
        "id": "xtfsBH0IRBHf"
      }
    },
    {
      "cell_type": "code",
      "source": [
        "random.seed(106)\n",
        "random.shuffle(labeled_names)\n",
        "\n",
        "train_names2 = labeled_names[1500:]\n",
        "devtest_names2 = labeled_names[500:1500]\n",
        "test_names2 = labeled_names[:500]\n",
        "\n",
        "train_set2 = [(gender_features2(n), g) for (n,g) in train_names2]\n",
        "devtest_set2 = [(gender_features2(n), g) for (n,g) in devtest_names2]\n",
        "classifier = nltk.NaiveBayesClassifier.train(train_set2)\n",
        "print(nltk.classify.accuracy(classifier, devtest_set2))"
      ],
      "metadata": {
        "colab": {
          "base_uri": "https://localhost:8080/"
        },
        "id": "3Ro4sgWDiOrk",
        "outputId": "e0e09a7a-ca54-49be-ff6e-12e0714e1924"
      },
      "execution_count": null,
      "outputs": [
        {
          "output_type": "stream",
          "name": "stdout",
          "text": [
            "0.766\n"
          ]
        }
      ]
    },
    {
      "cell_type": "code",
      "source": [
        "classifier.show_most_informative_features(10)"
      ],
      "metadata": {
        "colab": {
          "base_uri": "https://localhost:8080/"
        },
        "id": "hnLg8rEinNBm",
        "outputId": "d1f982e7-bae6-4796-e3ba-9eab89c740e0"
      },
      "execution_count": null,
      "outputs": [
        {
          "output_type": "stream",
          "name": "stdout",
          "text": [
            "Most Informative Features\n",
            "                 suffix2 = 'na'           female : male   =    141.4 : 1.0\n",
            "                 suffix2 = 'la'           female : male   =     64.8 : 1.0\n",
            "                 suffix2 = 'ta'           female : male   =     64.8 : 1.0\n",
            "                 suffix1 = 'a'            female : male   =     40.7 : 1.0\n",
            "                 suffix2 = 'ia'           female : male   =     33.8 : 1.0\n",
            "                 suffix2 = 'sa'           female : male   =     30.7 : 1.0\n",
            "                 suffix2 = 'ra'           female : male   =     30.0 : 1.0\n",
            "                 suffix2 = 'ld'             male : female =     29.4 : 1.0\n",
            "                 suffix2 = 'rt'             male : female =     28.3 : 1.0\n",
            "                 suffix1 = 'k'              male : female =     26.9 : 1.0\n"
          ]
        }
      ]
    },
    {
      "cell_type": "markdown",
      "source": [
        "Identify errors made by a classifier on the development/testing dataset to identify patterns and make improvements in feature extraction. Adding more letters seems to improve the accuracy.\n"
      ],
      "metadata": {
        "id": "cTAmEx0IU77E"
      }
    },
    {
      "cell_type": "code",
      "source": [
        "errors = []\n",
        "for (name, tag) in devtest_names:\n",
        "  guess = classifier.classify(gender_features2(name))\n",
        "  if guess != tag:\n",
        "    errors.append( (tag, guess, name) )\n",
        "for (tag, guess, name) in sorted(errors[:5]):\n",
        "  print('correct=%-8s guess=%-8s name=%-30s' % (tag, guess, name))"
      ],
      "metadata": {
        "colab": {
          "base_uri": "https://localhost:8080/"
        },
        "id": "lmCGqHzjnQAL",
        "outputId": "7f3e4d56-7dcf-49e5-befd-ab4feb6a61a0"
      },
      "execution_count": null,
      "outputs": [
        {
          "output_type": "stream",
          "name": "stdout",
          "text": [
            "correct=female   guess=male     name=Katlin                        \n",
            "correct=male     guess=female   name=Lonnie                        \n",
            "correct=male     guess=female   name=Rodolphe                      \n",
            "correct=male     guess=female   name=Tate                          \n",
            "correct=male     guess=female   name=Wolfie                        \n"
          ]
        }
      ]
    },
    {
      "cell_type": "markdown",
      "source": [
        "## Model 3"
      ],
      "metadata": {
        "id": "5-4qhw5Jj_wP"
      }
    },
    {
      "cell_type": "markdown",
      "source": [
        "Our third model looks at the last two letters and first two letters of each name.\n"
      ],
      "metadata": {
        "id": "7byDyV09REh-"
      }
    },
    {
      "cell_type": "code",
      "source": [
        "def gender_features3(word):\n",
        "  return {'suffix1':word[-1:],\n",
        "          'suffix2':word[-2:],\n",
        "          'prefix1':word[:1],\n",
        "          'prefix2':word[:2],}"
      ],
      "metadata": {
        "id": "GcQUsDC_jFs5"
      },
      "execution_count": null,
      "outputs": []
    },
    {
      "cell_type": "markdown",
      "source": [
        "Prepare the data by splitting into into training, development/test, and test sets. Extract features (using the function above)  from each name (n) and pair with the corresponding gender ('g') to create feature sets. Train Naive Bayes classifier using the training set. Evaluate the accuracy of the classifier using the development/test set and print."
      ],
      "metadata": {
        "id": "XhfNsVqiSilR"
      }
    },
    {
      "cell_type": "code",
      "source": [
        "random.seed(107)\n",
        "random.shuffle(labeled_names)\n",
        "\n",
        "train_names3 = labeled_names[1500:]\n",
        "devtest_names3 = labeled_names[500:1500]\n",
        "test_names3 = labeled_names[:500]\n",
        "\n",
        "train_set3 = [(gender_features3(n), g) for (n,g) in train_names3]\n",
        "devtest_set3 = [(gender_features3(n), g) for (n,g) in devtest_names3]\n",
        "classifier = nltk.NaiveBayesClassifier.train(train_set3)\n",
        "print(nltk.classify.accuracy(classifier, devtest_set3))"
      ],
      "metadata": {
        "colab": {
          "base_uri": "https://localhost:8080/"
        },
        "id": "2q2-2aZ_jIZM",
        "outputId": "fff5d1d8-e647-440d-800e-c3b36c07ce77"
      },
      "execution_count": null,
      "outputs": [
        {
          "output_type": "stream",
          "name": "stdout",
          "text": [
            "0.801\n"
          ]
        }
      ]
    },
    {
      "cell_type": "markdown",
      "source": [
        "## Model 4"
      ],
      "metadata": {
        "id": "t6bqMbMAlPUz"
      }
    },
    {
      "cell_type": "markdown",
      "source": [
        "Our fourth model looks at the last three letters and first two letters of each name.\n"
      ],
      "metadata": {
        "id": "PtAyFnPARFwl"
      }
    },
    {
      "cell_type": "code",
      "source": [
        "def gender_features4(word):\n",
        "  return {'suffix1':word[-1:],\n",
        "          'suffix2':word[-2:],\n",
        "          'suffix3':word[-3:],\n",
        "          'prefix1':word[:1],\n",
        "          'prefix2':word[:2]}"
      ],
      "metadata": {
        "id": "ShnL6gvElN67"
      },
      "execution_count": null,
      "outputs": []
    },
    {
      "cell_type": "markdown",
      "source": [
        "Prepare the data by splitting into into training, development/test, and test sets. Extract features (using the function above)  from each name (n) and pair with the corresponding gender ('g') to create feature sets. Train Naive Bayes classifier using the training set. Evaluate the accuracy of the classifier using the development/test set and print."
      ],
      "metadata": {
        "id": "_A-40CYWS1ZL"
      }
    },
    {
      "cell_type": "code",
      "source": [
        "random.seed(108)\n",
        "random.shuffle(labeled_names)\n",
        "\n",
        "train_names4 = labeled_names[1500:]\n",
        "devtest_names4 = labeled_names[500:1500]\n",
        "test_names4 = labeled_names[:500]\n",
        "\n",
        "train_set4 = [(gender_features4(n), g) for (n,g) in train_names4]\n",
        "devtest_set4 = [(gender_features4(n), g) for (n,g) in devtest_names4]\n",
        "classifier = nltk.NaiveBayesClassifier.train(train_set4)\n",
        "print(nltk.classify.accuracy(classifier, devtest_set4))"
      ],
      "metadata": {
        "colab": {
          "base_uri": "https://localhost:8080/"
        },
        "id": "jLPVWoByjQZS",
        "outputId": "0b3caeb6-94c4-4d8a-c4c5-6c0f26ad936c"
      },
      "execution_count": null,
      "outputs": [
        {
          "output_type": "stream",
          "name": "stdout",
          "text": [
            "0.801\n"
          ]
        }
      ]
    },
    {
      "cell_type": "markdown",
      "source": [
        "## Model 5"
      ],
      "metadata": {
        "id": "TgUUTLy1rkbq"
      }
    },
    {
      "cell_type": "markdown",
      "source": [
        "Our fifth model looks at the last three letters and first three letters of each name.\n"
      ],
      "metadata": {
        "id": "5fxzt0agS9e5"
      }
    },
    {
      "cell_type": "code",
      "source": [
        "def gender_features5(word):\n",
        "  return {'suffix1':word[-1:],\n",
        "          'suffix2':word[-2:],\n",
        "          'suffix3':word[-3:],\n",
        "          'prefix1':word[:1],\n",
        "          'prefix2':word[:2],\n",
        "          'prefix3':word[:3]}"
      ],
      "metadata": {
        "id": "ivRMXobOnrzl"
      },
      "execution_count": null,
      "outputs": []
    },
    {
      "cell_type": "markdown",
      "source": [
        "Prepare the data by splitting into into training, development/test(500), and test sets (500). Extract features (using the function above)  from each name (n) and pair with the corresponding gender ('g') to create feature sets. Train Naive Bayes classifier using the training set. Evaluate the accuracy of the classifier using the development/test set and print."
      ],
      "metadata": {
        "id": "yaGdsReWRIMl"
      }
    },
    {
      "cell_type": "code",
      "source": [
        "random.seed(108)\n",
        "random.shuffle(labeled_names)\n",
        "\n",
        "train_names5 = labeled_names[1500:]\n",
        "devtest_names5 = labeled_names[500:1500]\n",
        "test_names5 = labeled_names[:500]\n",
        "\n",
        "train_set5 = [(gender_features5(n), g) for (n,g) in train_names5]\n",
        "devtest_set5 = [(gender_features5(n), g) for (n,g) in devtest_names5]\n",
        "classifier = nltk.NaiveBayesClassifier.train(train_set5)\n",
        "print(nltk.classify.accuracy(classifier, devtest_set5))"
      ],
      "metadata": {
        "colab": {
          "base_uri": "https://localhost:8080/"
        },
        "id": "S3YQqXJwnuMj",
        "outputId": "7da89791-7eee-4a65-bd62-5e4d9a210383"
      },
      "execution_count": null,
      "outputs": [
        {
          "output_type": "stream",
          "name": "stdout",
          "text": [
            "0.836\n"
          ]
        }
      ]
    },
    {
      "cell_type": "markdown",
      "source": [
        "Identify errors made by a classifier on the development/testing dataset to identify patterns and make improvements in feature extraction. To potentially improve the model, add a different feature.\n",
        "\n"
      ],
      "metadata": {
        "id": "Z1rkYzPlXMsO"
      }
    },
    {
      "cell_type": "code",
      "source": [
        "errors = []\n",
        "for (name, tag) in devtest_names5:\n",
        "  guess = classifier.classify(gender_features5(name))\n",
        "  if guess != tag:\n",
        "    errors.append( (tag, guess, name) )\n",
        "for (tag, guess, name) in sorted(errors[:5]):\n",
        "  print('correct=%-8s guess=%-8s name=%-30s' % (tag, guess, name))"
      ],
      "metadata": {
        "colab": {
          "base_uri": "https://localhost:8080/"
        },
        "id": "40RkRxDorr_5",
        "outputId": "352e49ff-f8fd-4d80-889a-60967fd47f1f"
      },
      "execution_count": null,
      "outputs": [
        {
          "output_type": "stream",
          "name": "stdout",
          "text": [
            "correct=female   guess=male     name=Brook                         \n",
            "correct=female   guess=male     name=Judy                          \n",
            "correct=female   guess=male     name=Pen                           \n",
            "correct=male     guess=female   name=Juanita                       \n",
            "correct=male     guess=female   name=Keene                         \n"
          ]
        }
      ]
    },
    {
      "cell_type": "markdown",
      "source": [
        "## Model 6\n"
      ],
      "metadata": {
        "id": "zSJh8MkUoU5w"
      }
    },
    {
      "cell_type": "markdown",
      "source": [
        "Our sixth model looks at the last three letters and first three letters of each name and adds feature length."
      ],
      "metadata": {
        "id": "ojAuHPoUXv-T"
      }
    },
    {
      "cell_type": "code",
      "source": [
        "def gender_features6(word):\n",
        "  length = len(word)\n",
        "  return {'suffix1':word[-1:],\n",
        "          'suffix2':word[-2:],\n",
        "          'suffix3':word[-3:],\n",
        "          'prefix1':word[:1],\n",
        "          'prefix2':word[:2],\n",
        "          'prefix3':word[:3],\n",
        "          'length':length}"
      ],
      "metadata": {
        "id": "Bwg__rnjuYUO"
      },
      "execution_count": null,
      "outputs": []
    },
    {
      "cell_type": "markdown",
      "source": [
        "Prepare the data by splitting into into training, development/test, and test sets. Extract features (using the function above)  from each name (n) and pair with the corresponding gender ('g') to create feature sets. Train Naive Bayes classifier using the training set. Evaluate the accuracy of the classifier using the development/test set and print."
      ],
      "metadata": {
        "id": "km7IkGccTDvK"
      }
    },
    {
      "cell_type": "code",
      "source": [
        "random.seed(109)\n",
        "random.shuffle(labeled_names)\n",
        "\n",
        "train_names6 = labeled_names[1500:]\n",
        "devtest_names6 = labeled_names[500:1500]\n",
        "test_names6 = labeled_names[:500]\n",
        "\n",
        "train_set6 = [(gender_features6(n), g) for (n,g) in train_names6]\n",
        "devtest_set6 = [(gender_features6(n), g) for (n,g) in devtest_names6]\n",
        "classifier = nltk.NaiveBayesClassifier.train(train_set6)\n",
        "print(nltk.classify.accuracy(classifier, devtest_set6))"
      ],
      "metadata": {
        "colab": {
          "base_uri": "https://localhost:8080/"
        },
        "id": "aitDon89udlo",
        "outputId": "a87e221b-a3c7-433a-d858-97b88774d2a8"
      },
      "execution_count": null,
      "outputs": [
        {
          "output_type": "stream",
          "name": "stdout",
          "text": [
            "0.822\n"
          ]
        }
      ]
    },
    {
      "cell_type": "markdown",
      "source": [
        "## Model 7"
      ],
      "metadata": {
        "id": "BDHljfhUuvlN"
      }
    },
    {
      "cell_type": "markdown",
      "source": [
        "The seventh model looks at the same features of model 6 (last three and first three letters of each name and length) and adds feature where the last letter is a vowel. (? or s?)\n"
      ],
      "metadata": {
        "id": "fDU7-kdzTFOf"
      }
    },
    {
      "cell_type": "code",
      "source": [
        "def gender_features7(word):\n",
        "  length = len(word)\n",
        "  return {'suffix1':word[-1:],\n",
        "          'suffix2':word[-2:],\n",
        "          'suffix3':word[-3:],\n",
        "          'prefix1':word[:1],\n",
        "          'prefix2':word[:2],\n",
        "          'prefix3':word[:3],\n",
        "          'last_is_vowel':(word[-1] in 'aeious')}"
      ],
      "metadata": {
        "id": "dencFhc_r4h9"
      },
      "execution_count": null,
      "outputs": []
    },
    {
      "cell_type": "markdown",
      "source": [
        "Prepare the data by splitting into into training, development/test, and test sets. Extract features (using the function above)  from each name (n) and pair with the corresponding gender ('g') to create feature sets. Train Naive Bayes classifier using the training set. Evaluate the accuracy of the classifier using the development/test set and print."
      ],
      "metadata": {
        "id": "UPA1N7B-SRlm"
      }
    },
    {
      "cell_type": "code",
      "source": [
        "random.seed(110)\n",
        "random.shuffle(labeled_names)\n",
        "\n",
        "train_names7 = labeled_names[1500:]\n",
        "devtest_names7 = labeled_names[500:1500]\n",
        "test_names7 = labeled_names[:500]\n",
        "\n",
        "train_set7 = [(gender_features7(n), g) for (n,g) in train_names7]\n",
        "devtest_set7 = [(gender_features7(n), g) for (n,g) in devtest_names7]\n",
        "classifier = nltk.NaiveBayesClassifier.train(train_set7)\n",
        "print(nltk.classify.accuracy(classifier, devtest_set7))"
      ],
      "metadata": {
        "colab": {
          "base_uri": "https://localhost:8080/"
        },
        "id": "RGmlRXlur-0V",
        "outputId": "29e48f67-7187-41c0-b0ea-77b3dca5aa71"
      },
      "execution_count": null,
      "outputs": [
        {
          "output_type": "stream",
          "name": "stdout",
          "text": [
            "0.851\n"
          ]
        }
      ]
    },
    {
      "cell_type": "markdown",
      "source": [
        "After creating models 1-7, we determined that the accuracy rate of all the models change every time the code is run, whihc made identifying the best mode difficult. Therefore, we used cross-validation technique to assess how well the models perform. Kfold test (explained later in notebook) indicated that model 6 was the best; however, we wanted see if we could improve the model by adding a new feature and removing the first and last letter and length, to create model 8."
      ],
      "metadata": {
        "id": "hgOnlxvrY6mQ"
      }
    },
    {
      "cell_type": "markdown",
      "source": [
        "# Model 8"
      ],
      "metadata": {
        "id": "3Tkqnv0co2Kd"
      }
    },
    {
      "cell_type": "markdown",
      "source": [
        "Model eight looks at the second and third letter of the start and end of the name and syllables of the names (and ensured syllapy was installed and loaded and function to count them).\n",
        "\n",
        "\n",
        "Prepare the data by splitting into into training, development/test, and test sets. Extract features (using the function above)  from each name (n) and pair with the corresponding gender ('g') to create feature sets. Train Naive Bayes classifier using the training set. Evaluate the accuracy of the classifier using the development/test set and print."
      ],
      "metadata": {
        "id": "qmUvVdeeTJ1n"
      }
    },
    {
      "cell_type": "code",
      "source": [
        "def count_syllables(word):\n",
        "    return syllapy.count(word)\n",
        "\n",
        "def gender_features8(word):\n",
        "    length = len(word)\n",
        "    syllables = count_syllables(word)\n",
        "\n",
        "    return {'suffix2':word[-2:],\n",
        "          'suffix3':word[-3:],\n",
        "          'prefix2':word[:2],\n",
        "          'prefix3':word[:3],\n",
        "          'syllables': syllables}\n",
        "random.seed(109)\n",
        "random.shuffle(labeled_names)\n",
        "\n",
        "train_names8 = labeled_names[1500:]\n",
        "devtest_names8 = labeled_names[500:1500]\n",
        "test_names8 = labeled_names[:500]\n",
        "\n",
        "train_set8 = [(gender_features8(n), g) for (n,g) in train_names8]\n",
        "devtest_set8 = [(gender_features8(n), g) for (n,g) in devtest_names8]\n",
        "classifier = nltk.NaiveBayesClassifier.train(train_set8)\n",
        "print(nltk.classify.accuracy(classifier, devtest_set8))\n",
        "classifier.show_most_informative_features(10)"
      ],
      "metadata": {
        "colab": {
          "base_uri": "https://localhost:8080/"
        },
        "id": "iV5zwvoRnocH",
        "outputId": "90582ea2-0a65-4bad-fd00-559966eabcd3"
      },
      "execution_count": null,
      "outputs": [
        {
          "output_type": "stream",
          "name": "stdout",
          "text": [
            "0.819\n",
            "Most Informative Features\n",
            "                 suffix2 = 'na'           female : male   =     85.0 : 1.0\n",
            "                 suffix2 = 'la'           female : male   =     65.5 : 1.0\n",
            "                 suffix2 = 'ia'           female : male   =     49.5 : 1.0\n",
            "                 suffix2 = 'us'             male : female =     35.4 : 1.0\n",
            "                 suffix2 = 'ra'           female : male   =     32.0 : 1.0\n",
            "                 suffix2 = 'sa'           female : male   =     30.0 : 1.0\n",
            "                 suffix2 = 'rd'             male : female =     29.5 : 1.0\n",
            "                 suffix3 = 'nne'          female : male   =     29.3 : 1.0\n",
            "                 suffix3 = 'tta'          female : male   =     24.5 : 1.0\n",
            "                 suffix2 = 'ta'           female : male   =     22.6 : 1.0\n"
          ]
        }
      ]
    },
    {
      "cell_type": "markdown",
      "source": [
        "# Kfold"
      ],
      "metadata": {
        "id": "fUIZ7MeBia41"
      }
    },
    {
      "cell_type": "markdown",
      "source": [
        "Cross-validation technique to assess how well the models perform in comparision to one another.\n",
        "\n",
        "The code evaluates the performance of multiple feature extraction methods in each model by creating dictionary of model and corresponding feature extraction. It iterates through each model to obtain the average accuracy of each.\n",
        "\n",
        "This technique conlcluded that model 8 has the highest accuracy.\n",
        "\n"
      ],
      "metadata": {
        "id": "IDjzgTUXTR_f"
      }
    },
    {
      "cell_type": "code",
      "source": [
        "def k_fold_cross_validation(features_func, k=5):\n",
        "    kf = KFold(n_splits=k, shuffle=True, random_state=43)\n",
        "    accuracies = []\n",
        "\n",
        "#Convert labeled_names to numpy array since only integer scalar arrays can be converted to a scalar index\n",
        "    labeled_names_array = np.array(labeled_names)\n",
        "\n",
        "    for train_index, devtest_index in kf.split(labeled_names_array):\n",
        "        train_names = labeled_names_array[train_index]\n",
        "        devtest_names = labeled_names_array[devtest_index]\n",
        "\n",
        "        train_set = [(features_func(n), g) for (n, g) in train_names]\n",
        "        devtest_set = [(features_func(n), g) for (n, g) in devtest_names]\n",
        "\n",
        "        classifier = nltk.NaiveBayesClassifier.train(train_set)\n",
        "        accuracy = nltk.classify.accuracy(classifier, devtest_set)\n",
        "        accuracies.append(accuracy)\n",
        "\n",
        "    avg_accuracy = sum(accuracies) / len(accuracies)\n",
        "    return avg_accuracy\n",
        "\n",
        "# Runs k-fold cross-validation for each model\n",
        "models = {\n",
        "    'Model 1': gender_features1,\n",
        "    'Model 2': gender_features2,\n",
        "    'Model 3': gender_features3,\n",
        "    'Model 4': gender_features4,\n",
        "    'Model 5': gender_features5,\n",
        "    'Model 6': gender_features6,\n",
        "    'Model 7': gender_features7,\n",
        "    'Model 8': gender_features8,\n",
        "}\n",
        "\n",
        "for model_name, features_func in models.items():\n",
        "    avg_accuracy = k_fold_cross_validation(features_func)\n",
        "    print(f\"Average accuracy for {model_name}: {avg_accuracy:.4f}\")"
      ],
      "metadata": {
        "colab": {
          "base_uri": "https://localhost:8080/"
        },
        "id": "MkPz0Sl3ib0-",
        "outputId": "223490e9-3881-439e-9a74-82dd14a66d94"
      },
      "execution_count": null,
      "outputs": [
        {
          "output_type": "stream",
          "name": "stdout",
          "text": [
            "Average accuracy for Model 1: 0.7594\n",
            "Average accuracy for Model 2: 0.7766\n",
            "Average accuracy for Model 3: 0.8029\n",
            "Average accuracy for Model 4: 0.8143\n",
            "Average accuracy for Model 5: 0.8357\n",
            "Average accuracy for Model 6: 0.8353\n",
            "Average accuracy for Model 7: 0.8286\n",
            "Average accuracy for Model 8: 0.8370\n"
          ]
        }
      ]
    },
    {
      "cell_type": "markdown",
      "source": [
        "# Goodness of fit"
      ],
      "metadata": {
        "id": "o9R0JylKTU5C"
      }
    },
    {
      "cell_type": "markdown",
      "source": [
        "Since many of the model were increaseing in accurace we wanted to make sure that the model we select as the 'final' model 8 wasnt capturing noise; therefore we plot the learning curves for the training and dev-test groups.\n",
        "\n",
        "The code experiments with different training set sizes, to determine the optimal amount of data required to achieve the best accuracy or model performance without overfitting.\n",
        "\n",
        "From the visual analysis, the gap between training and dev-test accuracies does not indicate overfitting. The decrease in training accuracy with increased data exposure suggests the model is encountering more diverse patterns. Additionally, the rising dev-test accuracy with increased training size indicates improved performance on unseen data.\n",
        "\n"
      ],
      "metadata": {
        "id": "XwR-65UoXhDB"
      }
    },
    {
      "cell_type": "code",
      "source": [
        "train_set8 = [(gender_features8(n), g) for (n, g) in train_names8]\n",
        "devtest_set8 = [(gender_features8(n), g) for (n, g) in devtest_names8]\n",
        "test_set8 = [(gender_features8(n), g) for (n, g) in test_names8]\n",
        "\n",
        "# Add more training set sizes\n",
        "train_sizes = [100, 200, 300, 400, 500, 600, 700, 800, 900, 1000, 1100, 1200, 1300, 1400, 1500]\n",
        "train_accuracies = []\n",
        "devtest_accuracies = []\n",
        "\n",
        "for size in train_sizes:\n",
        "    train_acc, devtest_acc = train_and_evaluate(train_set8[:size], devtest_set8)\n",
        "    train_accuracies.append(train_acc)\n",
        "    devtest_accuracies.append(devtest_acc)\n",
        "\n",
        "# Plot the learning curves\n",
        "plot_learning_curves(train_sizes, train_accuracies, devtest_accuracies)"
      ],
      "metadata": {
        "colab": {
          "base_uri": "https://localhost:8080/",
          "height": 472
        },
        "id": "87h9_7FSXgV0",
        "outputId": "28732616-28c5-4f2c-9df1-d63f9df7466a"
      },
      "execution_count": null,
      "outputs": [
        {
          "output_type": "display_data",
          "data": {
            "text/plain": [
              "<Figure size 640x480 with 1 Axes>"
            ],
            "image/png": "[encoded data removed]"
          },
          "metadata": {}
        }
      ]
    },
    {
      "cell_type": "markdown",
      "source": [
        "# Final Model"
      ],
      "metadata": {
        "id": "KR7yWcXzrihn"
      }
    },
    {
      "cell_type": "markdown",
      "source": [
        "The final model select is model 8.\n",
        "\n",
        "To form the conclusions for this project a Decison Tree was created to highlightsimportant features evalulate model performance metrics such as precision, accuracy, recall and f1-score.\n",
        "\n",
        "Code uses vectorization to transforms dictionaries of feature names to feature values so the format is numeric, then trains a classifier, evaluates its performance (based on model 8), and prints the results.\n"
      ],
      "metadata": {
        "id": "BIP5tqnBTlNd"
      }
    },
    {
      "cell_type": "code",
      "source": [
        "# Vectorize features since they must be in string or real number\n",
        "vectorizer = DictVectorizer(sparse=False)\n",
        "train_features = vectorizer.fit_transform([features for features, label in train_set8])\n",
        "train_labels = [label for features, label in train_set8]\n",
        "\n",
        "# Train Decision Tree Classifier\n",
        "classifier_dt = DecisionTreeClassifier()\n",
        "classifier_dt.fit(train_features, train_labels)\n",
        "\n",
        "# Evaluate on Dev-Test Set\n",
        "devtest_features = vectorizer.transform([features for features, label in devtest_set8])\n",
        "devtest_labels = [label for features, label in devtest_set8]\n",
        "\n",
        "devtest_predictions = classifier_dt.predict(devtest_features)\n",
        "devtest_accuracy = accuracy_score(devtest_labels, devtest_predictions)\n",
        "devtest_report = classification_report(devtest_labels, devtest_predictions, target_names=['female', 'male'])\n",
        "\n",
        "# Evaluate on Test Set\n",
        "test_features = vectorizer.transform([features for features, label in test_set8])\n",
        "test_labels = [label for features, label in test_set8]\n",
        "\n",
        "test_predictions = classifier_dt.predict(test_features)\n",
        "test_accuracy = accuracy_score(test_labels, test_predictions)\n",
        "test_report = classification_report(test_labels, test_predictions, target_names=['female', 'male'])\n",
        "\n",
        "# Results\n",
        "print(\"Dev-Test Set Results:\")\n",
        "print(f\"Accuracy: {devtest_accuracy:.2%}\")\n",
        "print(devtest_report)\n",
        "\n",
        "print(\"\\nTest Set Results:\")\n",
        "print(f\"Accuracy: {test_accuracy:.2%}\")\n",
        "print(test_report)"
      ],
      "metadata": {
        "colab": {
          "base_uri": "https://localhost:8080/"
        },
        "id": "BvJHk1sziejg",
        "outputId": "525a2a1a-37c0-41de-f7a9-2b2f75ae697b"
      },
      "execution_count": null,
      "outputs": [
        {
          "output_type": "stream",
          "name": "stdout",
          "text": [
            "Dev-Test Set Results:\n",
            "Accuracy: 78.70%\n",
            "              precision    recall  f1-score   support\n",
            "\n",
            "      female       0.84      0.83      0.84       653\n",
            "        male       0.69      0.70      0.70       347\n",
            "\n",
            "    accuracy                           0.79      1000\n",
            "   macro avg       0.76      0.77      0.77      1000\n",
            "weighted avg       0.79      0.79      0.79      1000\n",
            "\n",
            "\n",
            "Test Set Results:\n",
            "Accuracy: 79.40%\n",
            "              precision    recall  f1-score   support\n",
            "\n",
            "      female       0.82      0.86      0.84       314\n",
            "        male       0.74      0.68      0.71       186\n",
            "\n",
            "    accuracy                           0.79       500\n",
            "   macro avg       0.78      0.77      0.78       500\n",
            "weighted avg       0.79      0.79      0.79       500\n",
            "\n"
          ]
        }
      ]
    },
    {
      "cell_type": "markdown",
      "source": [
        "# Conclusion"
      ],
      "metadata": {
        "id": "soXB0xemrk7Y"
      }
    },
    {
      "cell_type": "markdown",
      "source": [
        "Dev-Test vs. Test Set: The accuracy on the dev-test set (76.50%) is slightly higher compared to the test set (73.20%). This difference indicates a slight drop in performance when transitioning from the dev-test data to completely unseen test data."
      ],
      "metadata": {
        "id": "1sMSPESKj9kD"
      }
    },
    {
      "cell_type": "markdown",
      "source": [
        "Precision and Recall: Precision and recall for both genders show similar patterns between the dev-test and test sets, with slightly lower values on the test set. This suggests that while the model performs reasonably well on the test set, it may not generalize as effectively as it did on the dev-test set."
      ],
      "metadata": {
        "id": "1fWRaGHqkBYY"
      }
    },
    {
      "cell_type": "markdown",
      "source": [
        "Model Evaluation: The Decision Tree Classifier shows decent performance on both the dev-test and test sets, with accuracies above 70%. This indicates that the model is reasonably good at predicting genders based on names."
      ],
      "metadata": {
        "id": "1Hh29Da6kJbE"
      }
    },
    {
      "cell_type": "markdown",
      "source": [
        "We were expecting the model's performance on the dev-test set to be slightly higher than on the test set. This is because the dev-test set is often used for fine-tuning the model, adjusting hyperparameters, and making incremental improvements based on initial validation results."
      ],
      "metadata": {
        "id": "YivDq93H1aeE"
      }
    }
  ]
}
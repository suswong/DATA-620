{
  "nbformat": 4,
  "nbformat_minor": 0,
  "metadata": {
    "colab": {
      "provenance": [],
      "include_colab_link": true
    },
    "kernelspec": {
      "name": "python3",
      "display_name": "Python 3"
    },
    "language_info": {
      "name": "python"
    }
  },
  "cells": [
    {
      "cell_type": "markdown",
      "metadata": {
        "id": "view-in-github",
        "colab_type": "text"
      },
      "source": [
        "<a href=\"https://colab.research.google.com/github/suswong/DATA-620/blob/main/_Final_Project_Proposal_.ipynb\" target=\"_parent\"><img src=\"https://colab.research.google.com/assets/colab-badge.svg\" alt=\"Open In Colab\"/></a>"
      ]
    },
    {
      "cell_type": "markdown",
      "source": [
        "# Final Project Proposal\n",
        "\n",
        "Due 7/13/24\n",
        "\n",
        "**Group** (The DataDriven Team): Susanna Wong, Puja Roy, Mikhail Broomes & Marjete Vucinaj\n",
        "\n"
      ],
      "metadata": {
        "id": "h66ZmFXlm2kB"
      }
    },
    {
      "cell_type": "markdown",
      "source": [
        "**Motiviation/ seeking to accomplish:**\n",
        "\n",
        "Understanding the patterns and relationships within Jeopardy! questions can provide insights into the shows content evolution and difficulty distribution. This analysis will be valuable to contesters and fans interested in the structure of the quiz questions and their categorizations.\n",
        "\n",
        "We will try to predict what category a question would be based on the body of text. We will attempt to  use text processing to extract features and train initial models for predicting categories.  \n"
      ],
      "metadata": {
        "id": "I4xxIoVCne7b"
      }
    },
    {
      "cell_type": "code",
      "execution_count": null,
      "metadata": {
        "id": "xfW9AIdQkE-Y"
      },
      "outputs": [],
      "source": []
    },
    {
      "cell_type": "markdown",
      "source": [
        "**Describe your data sources**:\n",
        "\n",
        "The dataset contains over 216,930 Jeopardy! questions in JSON format, sourced from www.j-archive.com. This covers about 83% of all questions aired on the show, totaling 252,583 questions. It includes details like question category, value (except for final rounds), question text, answer, round type, episode number, and air date."
      ],
      "metadata": {
        "id": "VhkvKnSln6oD"
      }
    },
    {
      "cell_type": "code",
      "source": [],
      "metadata": {
        "id": "8Wn-JlkjwcjC"
      },
      "execution_count": null,
      "outputs": []
    },
    {
      "cell_type": "markdown",
      "source": [
        "**Plan for doing the work**\n",
        "\n",
        "- Data preparation (cleaning, tokenizing, stopwords removal, etc)\n",
        "- EDA\n",
        "    - Some questions to answer: What categories appear the most? Does it change throughout the years? This question is important for contesters, especially those are studying last minute.\n",
        "- Text Processing\n",
        "    - Frequency Analysis: Identify the most common words or phrases in the questions or answers\n",
        "    - Sentiment Analysis: Determine the sentiment of questions and answers\n",
        "- Network Analysis\n",
        "    - Construct a network where categories are nodes, and edges represent co-occurence of categories within the same show number. This can help a contester identify categories that frequently appear together in the same game. This knowlege allows them to anticipate potential categories that might come up next, which can aid in strategiec preparation.\n",
        "    - We can construct a network to determine which Jeopardy category is worth more. The nodes represent categories. Edges are based on similar question values.\n",
        "    - (if time allows/we can figure it out):Temporal Analysis: based on the air data, analyze how categories, questions, or answers evolve over time.\n",
        "- Modeling development\n",
        "    * Develop and train models to predict the category of a question based on its text.\n",
        "- Evaluation\n",
        "    * Assess the performance of the models using appropriate metrics.\n",
        "- Visualization: Generate visualizations to represent the results of text and network analysis, including network graphs, word clouds, and more\n",
        "\n",
        "\n"
      ],
      "metadata": {
        "id": "Bm94PtXtoAzH"
      }
    },
    {
      "cell_type": "code",
      "source": [],
      "metadata": {
        "id": "Q0lxjCOEe1Iu"
      },
      "execution_count": null,
      "outputs": []
    },
    {
      "cell_type": "markdown",
      "source": [
        "Up front concerns:\n",
        "- the dataset is larger and may take long run times for for processing and analysis.\n",
        "- Ensuring data quality and handling missing or inconsistent data entries.\n"
      ],
      "metadata": {
        "id": "LMgLXxVwoC95"
      }
    }
  ]
}